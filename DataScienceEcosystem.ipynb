{
 "cells": [
  {
   "cell_type": "markdown",
   "id": "0e6a7882-5058-4e81-bf27-36a0e6931fb3",
   "metadata": {},
   "source": [
    "# Data Science Tools and Ecosystem"
   ]
  },
  {
   "cell_type": "markdown",
   "id": "6f54cf02-da92-4d18-bb4d-39a9f65f752f",
   "metadata": {},
   "source": [
    "In this notebook Data Science Tools and Ecosystem are summarized."
   ]
  },
  {
   "cell_type": "markdown",
   "id": "72ff8152-f28c-447b-a73b-6ee78c2fab39",
   "metadata": {},
   "source": [
    "**Objectives:**\r\n",
    "\r\n",
    "- List popular languages for Data Science.\r\n",
    "- Identify commonly used libraries in Data Science.\r\n",
    "- Discuss open source tools used in Data Science.\r\n",
    "- Demonstrate examples of evaluating arithmetic expressions in Python.\r\n",
    "- Summarize the key takeaways from the course.\r\n"
   ]
  },
  {
   "cell_type": "markdown",
   "id": "2f3fd438-c1dc-4abe-9076-ccc538a646fc",
   "metadata": {},
   "source": [
    "Some of the popular languages that Data Scientists use are:\r\n",
    "\r\n",
    "1. Python\r\n",
    "2. R\r\n",
    "3. SQL\r\n",
    "4. Julia\r\n",
    "5. Scala\r\n"
   ]
  },
  {
   "cell_type": "markdown",
   "id": "e09d02c8-f17c-4225-bff8-5bbb0507645c",
   "metadata": {},
   "source": [
    "Some of the commonly used libraries used by Data Scientists include:\n",
    "\n",
    "1. NumPy\n",
    "2. Pandas\n",
    "3. Matplotlib\n",
    "4. Scikit-learn\n",
    "5. TensorFlow"
   ]
  },
  {
   "cell_type": "markdown",
   "id": "be3d7ad8-20f2-4edc-8088-af037b6c283a",
   "metadata": {},
   "source": [
    "| Data Science Tools          |\r\n",
    "|-----------------------------|\r\n",
    "| Jupyter Notebook            |\r\n",
    "| RStudio                     |\r\n",
    "| Apache Zeppelin             |\r\n"
   ]
  },
  {
   "cell_type": "markdown",
   "id": "b034b4b7-e3d0-41fa-9235-59d43e8de285",
   "metadata": {},
   "source": [
    "### Below are a few examples of evaluating arithmetic expressions in Python.\r\n",
    "\n",
    "\n"
   ]
  },
  {
   "cell_type": "code",
   "execution_count": 10,
   "id": "b9f01e3b-24e4-4672-a0b3-942d41f2a4cb",
   "metadata": {},
   "outputs": [
    {
     "data": {
      "text/plain": [
       "17"
      ]
     },
     "execution_count": 10,
     "metadata": {},
     "output_type": "execute_result"
    }
   ],
   "source": [
    "#This a simple arithmetic expression to multiply then add integers\n",
    "(3*4)+5"
   ]
  },
  {
   "cell_type": "code",
   "execution_count": 12,
   "id": "92f47794-03ee-470c-9be5-a5c9ccd25913",
   "metadata": {},
   "outputs": [
    {
     "data": {
      "text/plain": [
       "3.3333333333333335"
      ]
     },
     "execution_count": 12,
     "metadata": {},
     "output_type": "execute_result"
    }
   ],
   "source": [
    "#This will convert 200 minutes to hours by dividing by 60\n",
    "200/60"
   ]
  },
  {
   "cell_type": "markdown",
   "id": "f191ef18-a544-4352-9745-26ef40b2c3b4",
   "metadata": {},
   "source": [
    "## Author\n",
    "Rezwan Sadeqi"
   ]
  }
 ],
 "metadata": {
  "kernelspec": {
   "display_name": "Python 3 (ipykernel)",
   "language": "python",
   "name": "python3"
  },
  "language_info": {
   "codemirror_mode": {
    "name": "ipython",
    "version": 3
   },
   "file_extension": ".py",
   "mimetype": "text/x-python",
   "name": "python",
   "nbconvert_exporter": "python",
   "pygments_lexer": "ipython3",
   "version": "3.12.4"
  }
 },
 "nbformat": 4,
 "nbformat_minor": 5
}
